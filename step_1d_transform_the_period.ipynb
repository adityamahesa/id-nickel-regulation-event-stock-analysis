{
 "cells": [
  {
   "cell_type": "code",
   "execution_count": 46,
   "metadata": {},
   "outputs": [],
   "source": [
    "from IPython.core.interactiveshell import InteractiveShell\n",
    "from IPython.display import Markdown as md\n",
    "from ipynb.fs.full import functions\n",
    "import pandas as pd\n",
    "\n",
    "InteractiveShell.ast_node_interactivity = \"all\"\n",
    "\n",
    "pd.set_option('display.max_rows', None)\n",
    "pd.set_option('display.max_columns', None)"
   ]
  },
  {
   "cell_type": "code",
   "execution_count": 47,
   "metadata": {},
   "outputs": [],
   "source": [
    "ticker_prices_filename = 'ticker_prices_cleaned.xlsx'\n",
    "ticker_prices_excel_book = pd.read_excel(io=ticker_prices_filename, header=[0,1], index_col=0, sheet_name=None)\n",
    "\n",
    "market_prices_filename = 'market_prices.xlsx'\n",
    "market_prices_excel_book = pd.read_excel(io=market_prices_filename, index_col=0, sheet_name=None)"
   ]
  },
  {
   "cell_type": "code",
   "execution_count": 49,
   "metadata": {},
   "outputs": [],
   "source": [
    "period_column_name = 'period'\n",
    "Close_column_name = 'Close'\n",
    "price_column_name = 'price'\n",
    "Volume_column_name = 'Volume'\n",
    "volume_column_name = 'volume'\n",
    "first_index = -11\n",
    "market_suffix = '.JK'\n",
    "\n",
    "tickers_output_sheet_list = []\n",
    "market_output_sheet_list = []\n",
    "\n",
    "for sheet_name in ticker_prices_excel_book.keys():\n",
    "    tickers_data_frame = ticker_prices_excel_book[sheet_name].copy()\n",
    "    tickers_number_of_rows = len(tickers_data_frame.index)\n",
    "    tickers_data_frame[period_column_name] = list(range(first_index, first_index+tickers_number_of_rows))\n",
    "    tickers_data_frame = tickers_data_frame.copy().set_index(period_column_name)\n",
    "    tickers_data_frame = tickers_data_frame.copy().rename(columns={Close_column_name: price_column_name, Volume_column_name: volume_column_name}, level=0)\n",
    "    tickers_data_frame.columns = pd.MultiIndex.from_tuples([(i[0], i[1].replace(market_suffix, '')) for i in tickers_data_frame.columns])\n",
    "    \n",
    "    tickers_output_sheet_list.append({\n",
    "        'sheet_name': sheet_name,\n",
    "        'data_frame': tickers_data_frame,\n",
    "    })\n",
    "\n",
    "    market_data_frame = market_prices_excel_book[sheet_name].copy()\n",
    "    market_number_of_rows = len(market_data_frame.index)\n",
    "    market_data_frame[period_column_name] = list(range(first_index, first_index+market_number_of_rows))\n",
    "    market_data_frame = market_data_frame.copy().set_index(period_column_name)\n",
    "    market_data_frame = market_data_frame.copy().rename(columns={Close_column_name: price_column_name, Volume_column_name: volume_column_name}, level=0)\n",
    "\n",
    "    market_output_sheet_list.append({\n",
    "        'sheet_name': sheet_name,\n",
    "        'data_frame': market_data_frame,\n",
    "    })\n"
   ]
  },
  {
   "cell_type": "code",
   "execution_count": 50,
   "metadata": {},
   "outputs": [],
   "source": [
    "with pd.ExcelWriter('ticker_prices_transformed.xlsx') as excel_writer:\n",
    "    for i in tickers_output_sheet_list:\n",
    "        sheet_name = i['sheet_name']\n",
    "        df = i['data_frame']\n",
    "        df.to_excel(excel_writer=excel_writer, sheet_name=sheet_name)\n",
    "\n",
    "with pd.ExcelWriter('market_prices_transformed.xlsx') as excel_writer:\n",
    "    for i in market_output_sheet_list:\n",
    "        sheet_name = i['sheet_name']\n",
    "        df = i['data_frame']\n",
    "        df.to_excel(excel_writer=excel_writer, sheet_name=sheet_name)\n"
   ]
  }
 ],
 "metadata": {
  "kernelspec": {
   "display_name": "venv",
   "language": "python",
   "name": "python3"
  },
  "language_info": {
   "codemirror_mode": {
    "name": "ipython",
    "version": 3
   },
   "file_extension": ".py",
   "mimetype": "text/x-python",
   "name": "python",
   "nbconvert_exporter": "python",
   "pygments_lexer": "ipython3",
   "version": "3.10.7"
  },
  "orig_nbformat": 4
 },
 "nbformat": 4,
 "nbformat_minor": 2
}
