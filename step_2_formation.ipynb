{
 "cells": [
  {
   "cell_type": "code",
   "execution_count": 1,
   "metadata": {},
   "outputs": [],
   "source": [
    "from IPython.core.interactiveshell import InteractiveShell\n",
    "from IPython.display import Markdown as md\n",
    "from ipynb.fs.full import functions\n",
    "import pandas as pd\n",
    "\n",
    "InteractiveShell.ast_node_interactivity = \"all\"\n",
    "\n",
    "pd.set_option('display.max_rows', None)\n",
    "pd.set_option('display.max_columns', None)"
   ]
  },
  {
   "cell_type": "code",
   "execution_count": 2,
   "metadata": {},
   "outputs": [],
   "source": [
    "\n",
    "from datetime import datetime"
   ]
  },
  {
   "cell_type": "code",
   "execution_count": 3,
   "metadata": {},
   "outputs": [],
   "source": [
    "focused_case = ['PRO-3', 'PRO-4']"
   ]
  },
  {
   "cell_type": "code",
   "execution_count": 4,
   "metadata": {},
   "outputs": [
    {
     "name": "stdout",
     "output_type": "stream",
     "text": [
      "[*********************100%***********************]  598 of 598 completed\n",
      "[*********************100%***********************]  598 of 598 completed\n"
     ]
    }
   ],
   "source": [
    "tickers_sheet = 'tickers'\n",
    "tickers = pd.read_excel('output_preprocessing.xlsx', sheet_name=tickers_sheet)\n",
    "\n",
    "timeline = pd.read_excel('timeline.xlsx', sheet_name='timeline')\n",
    "\n",
    "pro_or_con_column_name = 'pro_or_con'\n",
    "pro_or_con_choice = ['PRO', 'CON']\n",
    "\n",
    "output_sheet_list = []\n",
    "\n",
    "for pro_or_con in pro_or_con_choice:\n",
    "    selected_pro_or_con = timeline[timeline[pro_or_con_column_name] == pro_or_con]\n",
    "    for _, case in selected_pro_or_con.iterrows():\n",
    "        case_code = case['code']\n",
    "        if focused_case and case_code not in focused_case:\n",
    "            continue\n",
    "\n",
    "        start_date = case['formation_start_date']\n",
    "        end_date = case['formation_end_date']\n",
    "\n",
    "        start_time = datetime.strptime(start_date, '%Y-%m-%d')\n",
    "        end_time = datetime.strptime(end_date, '%Y-%m-%d')\n",
    "\n",
    "        returns_of_market = functions.generate_returns_of_market(start_time=start_time, end_time=end_time)\n",
    "\n",
    "        tickers_stock_prices = functions.generate_stock_prices(start_time=start_time, end_time=end_time, tickers=tickers)\n",
    "        tickers_return = functions.calculate_tickers_return(tickers_stock_prices=tickers_stock_prices)\n",
    "            \n",
    "        observation_df = functions.init_observation_df(tickers_return)\n",
    "        observation_df = functions.calculate_u(observation_df, returns_of_market)\n",
    "        observation_df = functions.calculate_cu(observation_df)\n",
    "        sorted_observation_df = functions.sort_by_last_formation_day(observation_df)\n",
    "        output_sheet_list.append({\n",
    "            'sheet_name': case_code,\n",
    "            'data_frame': sorted_observation_df.copy(),\n",
    "        })\n",
    "\n",
    "        del tickers_stock_prices, tickers_return, observation_df, sorted_observation_df\n",
    "\n",
    "            \n"
   ]
  },
  {
   "cell_type": "code",
   "execution_count": 5,
   "metadata": {},
   "outputs": [],
   "source": [
    "with pd.ExcelWriter('output_formation.xlsx') as excel_writer:\n",
    "    for i in output_sheet_list:\n",
    "        df = i['data_frame']\n",
    "        df.index = df.index.map(str)\n",
    "        sheet_name = i['sheet_name']\n",
    "        df.to_excel(excel_writer=excel_writer, sheet_name=sheet_name)"
   ]
  }
 ],
 "metadata": {
  "kernelspec": {
   "display_name": "venv",
   "language": "python",
   "name": "python3"
  },
  "language_info": {
   "codemirror_mode": {
    "name": "ipython",
    "version": 3
   },
   "file_extension": ".py",
   "mimetype": "text/x-python",
   "name": "python",
   "nbconvert_exporter": "python",
   "pygments_lexer": "ipython3",
   "version": "3.10.7"
  },
  "orig_nbformat": 4
 },
 "nbformat": 4,
 "nbformat_minor": 2
}
