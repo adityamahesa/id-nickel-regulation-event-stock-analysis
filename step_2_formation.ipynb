{
 "cells": [
  {
   "cell_type": "code",
   "execution_count": 1,
   "metadata": {},
   "outputs": [],
   "source": [
    "from IPython.core.interactiveshell import InteractiveShell\n",
    "from IPython.display import Markdown as md\n",
    "from ipynb.fs.full import functions\n",
    "import pandas as pd\n",
    "\n",
    "InteractiveShell.ast_node_interactivity = \"all\"\n",
    "\n",
    "pd.set_option('display.max_rows', None)\n",
    "pd.set_option('display.max_columns', None)"
   ]
  },
  {
   "cell_type": "code",
   "execution_count": 2,
   "metadata": {},
   "outputs": [],
   "source": [
    "\n",
    "from datetime import datetime"
   ]
  },
  {
   "cell_type": "code",
   "execution_count": 3,
   "metadata": {},
   "outputs": [
    {
     "name": "stdout",
     "output_type": "stream",
     "text": [
      "[*********************100%***********************]  357 of 357 completed"
     ]
    },
    {
     "name": "stderr",
     "output_type": "stream",
     "text": [
      "\n",
      "4 Failed downloads:\n",
      "['TKIM.JK', 'KIAS.JK', 'BMTR.JK', 'KMTR.JK']: Exception('%ticker%: No price data found, symbol may be delisted (1d 2019-07-26 00:00:00 -> 2019-08-10 00:00:00)')\n"
     ]
    },
    {
     "name": "stdout",
     "output_type": "stream",
     "text": [
      "\n"
     ]
    },
    {
     "name": "stderr",
     "output_type": "stream",
     "text": [
      "/home/adityamahesa/productivities/self-project/py-thesis/functions.ipynb:78: PerformanceWarning: DataFrame is highly fragmented.  This is usually the result of calling `frame.insert` many times, which has poor performance.  Consider joining all columns at once using pd.concat(axis=1) instead. To get a de-fragmented frame, use `newframe = frame.copy()`\n",
      "  \"metadata\": {},\n",
      "/home/adityamahesa/productivities/self-project/py-thesis/functions.ipynb:88: PerformanceWarning: DataFrame is highly fragmented.  This is usually the result of calling `frame.insert` many times, which has poor performance.  Consider joining all columns at once using pd.concat(axis=1) instead. To get a de-fragmented frame, use `newframe = frame.copy()`\n",
      "  \"execution_count\": 7,\n"
     ]
    },
    {
     "name": "stdout",
     "output_type": "stream",
     "text": [
      "[*********************100%***********************]  243 of 243 completed\n"
     ]
    },
    {
     "name": "stderr",
     "output_type": "stream",
     "text": [
      "/home/adityamahesa/productivities/self-project/py-thesis/functions.ipynb:78: PerformanceWarning: DataFrame is highly fragmented.  This is usually the result of calling `frame.insert` many times, which has poor performance.  Consider joining all columns at once using pd.concat(axis=1) instead. To get a de-fragmented frame, use `newframe = frame.copy()`\n",
      "  \"metadata\": {},\n",
      "/home/adityamahesa/productivities/self-project/py-thesis/functions.ipynb:88: PerformanceWarning: DataFrame is highly fragmented.  This is usually the result of calling `frame.insert` many times, which has poor performance.  Consider joining all columns at once using pd.concat(axis=1) instead. To get a de-fragmented frame, use `newframe = frame.copy()`\n",
      "  \"execution_count\": 7,\n"
     ]
    },
    {
     "name": "stdout",
     "output_type": "stream",
     "text": [
      "[*********************100%***********************]  357 of 357 completed\n"
     ]
    },
    {
     "name": "stderr",
     "output_type": "stream",
     "text": [
      "/home/adityamahesa/productivities/self-project/py-thesis/functions.ipynb:78: PerformanceWarning: DataFrame is highly fragmented.  This is usually the result of calling `frame.insert` many times, which has poor performance.  Consider joining all columns at once using pd.concat(axis=1) instead. To get a de-fragmented frame, use `newframe = frame.copy()`\n",
      "  \"metadata\": {},\n",
      "/home/adityamahesa/productivities/self-project/py-thesis/functions.ipynb:88: PerformanceWarning: DataFrame is highly fragmented.  This is usually the result of calling `frame.insert` many times, which has poor performance.  Consider joining all columns at once using pd.concat(axis=1) instead. To get a de-fragmented frame, use `newframe = frame.copy()`\n",
      "  \"execution_count\": 7,\n"
     ]
    },
    {
     "name": "stdout",
     "output_type": "stream",
     "text": [
      "[*********************100%***********************]  243 of 243 completed\n"
     ]
    },
    {
     "name": "stderr",
     "output_type": "stream",
     "text": [
      "/home/adityamahesa/productivities/self-project/py-thesis/functions.ipynb:78: PerformanceWarning: DataFrame is highly fragmented.  This is usually the result of calling `frame.insert` many times, which has poor performance.  Consider joining all columns at once using pd.concat(axis=1) instead. To get a de-fragmented frame, use `newframe = frame.copy()`\n",
      "  \"metadata\": {},\n",
      "/home/adityamahesa/productivities/self-project/py-thesis/functions.ipynb:88: PerformanceWarning: DataFrame is highly fragmented.  This is usually the result of calling `frame.insert` many times, which has poor performance.  Consider joining all columns at once using pd.concat(axis=1) instead. To get a de-fragmented frame, use `newframe = frame.copy()`\n",
      "  \"execution_count\": 7,\n"
     ]
    },
    {
     "name": "stdout",
     "output_type": "stream",
     "text": [
      "[*********************100%***********************]  357 of 357 completed\n"
     ]
    },
    {
     "name": "stderr",
     "output_type": "stream",
     "text": [
      "/home/adityamahesa/productivities/self-project/py-thesis/functions.ipynb:78: PerformanceWarning: DataFrame is highly fragmented.  This is usually the result of calling `frame.insert` many times, which has poor performance.  Consider joining all columns at once using pd.concat(axis=1) instead. To get a de-fragmented frame, use `newframe = frame.copy()`\n",
      "  \"metadata\": {},\n",
      "/home/adityamahesa/productivities/self-project/py-thesis/functions.ipynb:88: PerformanceWarning: DataFrame is highly fragmented.  This is usually the result of calling `frame.insert` many times, which has poor performance.  Consider joining all columns at once using pd.concat(axis=1) instead. To get a de-fragmented frame, use `newframe = frame.copy()`\n",
      "  \"execution_count\": 7,\n"
     ]
    },
    {
     "name": "stdout",
     "output_type": "stream",
     "text": [
      "[*********************100%***********************]  243 of 243 completed\n"
     ]
    },
    {
     "name": "stderr",
     "output_type": "stream",
     "text": [
      "/home/adityamahesa/productivities/self-project/py-thesis/functions.ipynb:78: PerformanceWarning: DataFrame is highly fragmented.  This is usually the result of calling `frame.insert` many times, which has poor performance.  Consider joining all columns at once using pd.concat(axis=1) instead. To get a de-fragmented frame, use `newframe = frame.copy()`\n",
      "  \"metadata\": {},\n",
      "/home/adityamahesa/productivities/self-project/py-thesis/functions.ipynb:88: PerformanceWarning: DataFrame is highly fragmented.  This is usually the result of calling `frame.insert` many times, which has poor performance.  Consider joining all columns at once using pd.concat(axis=1) instead. To get a de-fragmented frame, use `newframe = frame.copy()`\n",
      "  \"execution_count\": 7,\n"
     ]
    },
    {
     "name": "stdout",
     "output_type": "stream",
     "text": [
      "[*********************100%***********************]  357 of 357 completed\n"
     ]
    },
    {
     "name": "stderr",
     "output_type": "stream",
     "text": [
      "/home/adityamahesa/productivities/self-project/py-thesis/functions.ipynb:78: PerformanceWarning: DataFrame is highly fragmented.  This is usually the result of calling `frame.insert` many times, which has poor performance.  Consider joining all columns at once using pd.concat(axis=1) instead. To get a de-fragmented frame, use `newframe = frame.copy()`\n",
      "  \"metadata\": {},\n",
      "/home/adityamahesa/productivities/self-project/py-thesis/functions.ipynb:88: PerformanceWarning: DataFrame is highly fragmented.  This is usually the result of calling `frame.insert` many times, which has poor performance.  Consider joining all columns at once using pd.concat(axis=1) instead. To get a de-fragmented frame, use `newframe = frame.copy()`\n",
      "  \"execution_count\": 7,\n"
     ]
    },
    {
     "name": "stdout",
     "output_type": "stream",
     "text": [
      "[*********************100%***********************]  243 of 243 completed\n"
     ]
    },
    {
     "name": "stderr",
     "output_type": "stream",
     "text": [
      "/home/adityamahesa/productivities/self-project/py-thesis/functions.ipynb:78: PerformanceWarning: DataFrame is highly fragmented.  This is usually the result of calling `frame.insert` many times, which has poor performance.  Consider joining all columns at once using pd.concat(axis=1) instead. To get a de-fragmented frame, use `newframe = frame.copy()`\n",
      "  \"metadata\": {},\n",
      "/home/adityamahesa/productivities/self-project/py-thesis/functions.ipynb:88: PerformanceWarning: DataFrame is highly fragmented.  This is usually the result of calling `frame.insert` many times, which has poor performance.  Consider joining all columns at once using pd.concat(axis=1) instead. To get a de-fragmented frame, use `newframe = frame.copy()`\n",
      "  \"execution_count\": 7,\n"
     ]
    },
    {
     "name": "stdout",
     "output_type": "stream",
     "text": [
      "[*********************100%***********************]  357 of 357 completed\n"
     ]
    },
    {
     "name": "stderr",
     "output_type": "stream",
     "text": [
      "/home/adityamahesa/productivities/self-project/py-thesis/functions.ipynb:78: PerformanceWarning: DataFrame is highly fragmented.  This is usually the result of calling `frame.insert` many times, which has poor performance.  Consider joining all columns at once using pd.concat(axis=1) instead. To get a de-fragmented frame, use `newframe = frame.copy()`\n",
      "  \"metadata\": {},\n",
      "/home/adityamahesa/productivities/self-project/py-thesis/functions.ipynb:88: PerformanceWarning: DataFrame is highly fragmented.  This is usually the result of calling `frame.insert` many times, which has poor performance.  Consider joining all columns at once using pd.concat(axis=1) instead. To get a de-fragmented frame, use `newframe = frame.copy()`\n",
      "  \"execution_count\": 7,\n"
     ]
    },
    {
     "name": "stdout",
     "output_type": "stream",
     "text": [
      "[*********************100%***********************]  243 of 243 completed\n"
     ]
    },
    {
     "name": "stderr",
     "output_type": "stream",
     "text": [
      "/home/adityamahesa/productivities/self-project/py-thesis/functions.ipynb:78: PerformanceWarning: DataFrame is highly fragmented.  This is usually the result of calling `frame.insert` many times, which has poor performance.  Consider joining all columns at once using pd.concat(axis=1) instead. To get a de-fragmented frame, use `newframe = frame.copy()`\n",
      "  \"metadata\": {},\n",
      "/home/adityamahesa/productivities/self-project/py-thesis/functions.ipynb:88: PerformanceWarning: DataFrame is highly fragmented.  This is usually the result of calling `frame.insert` many times, which has poor performance.  Consider joining all columns at once using pd.concat(axis=1) instead. To get a de-fragmented frame, use `newframe = frame.copy()`\n",
      "  \"execution_count\": 7,\n"
     ]
    },
    {
     "name": "stdout",
     "output_type": "stream",
     "text": [
      "[*********************100%***********************]  357 of 357 completed"
     ]
    },
    {
     "name": "stderr",
     "output_type": "stream",
     "text": [
      "\n",
      "4 Failed downloads:\n",
      "['FASW.JK', 'COWL.JK', 'MPRO.JK', 'IDPR.JK']: Exception('%ticker%: No price data found, symbol may be delisted (1d 2020-12-30 00:00:00 -> 2021-01-16 00:00:00)')\n"
     ]
    },
    {
     "name": "stdout",
     "output_type": "stream",
     "text": [
      "\n"
     ]
    },
    {
     "name": "stderr",
     "output_type": "stream",
     "text": [
      "/home/adityamahesa/productivities/self-project/py-thesis/functions.ipynb:78: PerformanceWarning: DataFrame is highly fragmented.  This is usually the result of calling `frame.insert` many times, which has poor performance.  Consider joining all columns at once using pd.concat(axis=1) instead. To get a de-fragmented frame, use `newframe = frame.copy()`\n",
      "  \"metadata\": {},\n",
      "/home/adityamahesa/productivities/self-project/py-thesis/functions.ipynb:88: PerformanceWarning: DataFrame is highly fragmented.  This is usually the result of calling `frame.insert` many times, which has poor performance.  Consider joining all columns at once using pd.concat(axis=1) instead. To get a de-fragmented frame, use `newframe = frame.copy()`\n",
      "  \"execution_count\": 7,\n"
     ]
    },
    {
     "name": "stdout",
     "output_type": "stream",
     "text": [
      "[*********************100%***********************]  243 of 243 completed\n",
      "[*********************100%***********************]  357 of 357 completed\n"
     ]
    },
    {
     "name": "stderr",
     "output_type": "stream",
     "text": [
      "/home/adityamahesa/productivities/self-project/py-thesis/functions.ipynb:78: PerformanceWarning: DataFrame is highly fragmented.  This is usually the result of calling `frame.insert` many times, which has poor performance.  Consider joining all columns at once using pd.concat(axis=1) instead. To get a de-fragmented frame, use `newframe = frame.copy()`\n",
      "  \"metadata\": {},\n",
      "/home/adityamahesa/productivities/self-project/py-thesis/functions.ipynb:88: PerformanceWarning: DataFrame is highly fragmented.  This is usually the result of calling `frame.insert` many times, which has poor performance.  Consider joining all columns at once using pd.concat(axis=1) instead. To get a de-fragmented frame, use `newframe = frame.copy()`\n",
      "  \"execution_count\": 7,\n"
     ]
    },
    {
     "name": "stdout",
     "output_type": "stream",
     "text": [
      "[*********************100%***********************]  243 of 243 completed"
     ]
    },
    {
     "name": "stderr",
     "output_type": "stream",
     "text": [
      "\n",
      "2 Failed downloads:\n",
      "['PNBS.JK', 'BBLD.JK']: Exception('%ticker%: No price data found, symbol may be delisted (1d 2022-11-07 00:00:00 -> 2022-11-22 00:00:00)')\n"
     ]
    },
    {
     "name": "stdout",
     "output_type": "stream",
     "text": [
      "\n"
     ]
    },
    {
     "name": "stderr",
     "output_type": "stream",
     "text": [
      "/home/adityamahesa/productivities/self-project/py-thesis/functions.ipynb:78: PerformanceWarning: DataFrame is highly fragmented.  This is usually the result of calling `frame.insert` many times, which has poor performance.  Consider joining all columns at once using pd.concat(axis=1) instead. To get a de-fragmented frame, use `newframe = frame.copy()`\n",
      "  \"metadata\": {},\n",
      "/home/adityamahesa/productivities/self-project/py-thesis/functions.ipynb:88: PerformanceWarning: DataFrame is highly fragmented.  This is usually the result of calling `frame.insert` many times, which has poor performance.  Consider joining all columns at once using pd.concat(axis=1) instead. To get a de-fragmented frame, use `newframe = frame.copy()`\n",
      "  \"execution_count\": 7,\n"
     ]
    },
    {
     "name": "stdout",
     "output_type": "stream",
     "text": [
      "[*********************100%***********************]  357 of 357 completed\n"
     ]
    },
    {
     "name": "stderr",
     "output_type": "stream",
     "text": [
      "/home/adityamahesa/productivities/self-project/py-thesis/functions.ipynb:78: PerformanceWarning: DataFrame is highly fragmented.  This is usually the result of calling `frame.insert` many times, which has poor performance.  Consider joining all columns at once using pd.concat(axis=1) instead. To get a de-fragmented frame, use `newframe = frame.copy()`\n",
      "  \"metadata\": {},\n",
      "/home/adityamahesa/productivities/self-project/py-thesis/functions.ipynb:88: PerformanceWarning: DataFrame is highly fragmented.  This is usually the result of calling `frame.insert` many times, which has poor performance.  Consider joining all columns at once using pd.concat(axis=1) instead. To get a de-fragmented frame, use `newframe = frame.copy()`\n",
      "  \"execution_count\": 7,\n"
     ]
    },
    {
     "name": "stdout",
     "output_type": "stream",
     "text": [
      "[*********************100%***********************]  243 of 243 completed"
     ]
    },
    {
     "name": "stderr",
     "output_type": "stream",
     "text": [
      "\n",
      "4 Failed downloads:\n",
      "['JSPT.JK', 'RELI.JK', 'BDMN.JK', 'BBLD.JK']: Exception('%ticker%: No price data found, symbol may be delisted (1d 2023-06-13 00:00:00 -> 2023-06-28 00:00:00)')\n"
     ]
    },
    {
     "name": "stdout",
     "output_type": "stream",
     "text": [
      "\n"
     ]
    },
    {
     "name": "stderr",
     "output_type": "stream",
     "text": [
      "/home/adityamahesa/productivities/self-project/py-thesis/functions.ipynb:78: PerformanceWarning: DataFrame is highly fragmented.  This is usually the result of calling `frame.insert` many times, which has poor performance.  Consider joining all columns at once using pd.concat(axis=1) instead. To get a de-fragmented frame, use `newframe = frame.copy()`\n",
      "  \"metadata\": {},\n",
      "/home/adityamahesa/productivities/self-project/py-thesis/functions.ipynb:88: PerformanceWarning: DataFrame is highly fragmented.  This is usually the result of calling `frame.insert` many times, which has poor performance.  Consider joining all columns at once using pd.concat(axis=1) instead. To get a de-fragmented frame, use `newframe = frame.copy()`\n",
      "  \"execution_count\": 7,\n"
     ]
    }
   ],
   "source": [
    "tickers_sheet = 'tickers'\n",
    "tickers = pd.read_excel('output_preprocessing.xlsx', sheet_name=tickers_sheet)\n",
    "\n",
    "timeline = pd.read_excel('timeline.xlsx', sheet_name='timeline')\n",
    "\n",
    "pro_or_con_column_name = 'pro_or_con'\n",
    "pro_or_con_choice = ['PRO', 'CON']\n",
    "is_more_related_choice = [True, False]\n",
    "\n",
    "output_sheet_list = []\n",
    "\n",
    "for pro_or_con in pro_or_con_choice:\n",
    "    selected_pro_or_con = timeline[timeline[pro_or_con_column_name] == pro_or_con]\n",
    "    for _, case in selected_pro_or_con.iterrows():\n",
    "        case_code = case['code']\n",
    "        start_date = case['formation_start_date']\n",
    "        end_date = case['formation_end_date']\n",
    "\n",
    "        start_time = datetime.strptime(start_date, '%Y-%m-%d')\n",
    "        end_time = datetime.strptime(end_date, '%Y-%m-%d')\n",
    "\n",
    "        returns_of_market = functions.generate_returns_of_market(start_time=start_time, end_time=end_time)\n",
    "\n",
    "        for is_more_related in is_more_related_choice:\n",
    "            tickers_stock_prices = functions.generate_stock_prices(start_time=start_time, end_time=end_time, tickers=tickers, is_more_related=is_more_related)\n",
    "            tickers_return = functions.calculate_tickers_return(tickers_stock_prices=tickers_stock_prices)\n",
    "            \n",
    "            observation_df = functions.init_observation_df(tickers_return)\n",
    "            observation_df = functions.calculate_u(observation_df, returns_of_market)\n",
    "            observation_df = functions.calculate_cu(observation_df)\n",
    "            winner_observation_df, loser_observation_df = functions.select_winner_and_loser_tickers(observation_df)\n",
    "            output_sheet_list.append({\n",
    "                'sheet_name': f'{case_code}_REL-{int(is_more_related)}_WINNER',\n",
    "                'data_frame': winner_observation_df.copy()\n",
    "            })\n",
    "            output_sheet_list.append({\n",
    "                'sheet_name': f'{case_code}_REL-{int(is_more_related)}_LOSER',\n",
    "                'data_frame': loser_observation_df.copy()\n",
    "            })\n",
    "\n",
    "            del tickers_stock_prices, tickers_return, observation_df, winner_observation_df, loser_observation_df\n",
    "\n",
    "            \n"
   ]
  },
  {
   "cell_type": "code",
   "execution_count": 6,
   "metadata": {},
   "outputs": [],
   "source": [
    "with pd.ExcelWriter('output_formation.xlsx') as excel_writer:\n",
    "    for i in output_sheet_list:\n",
    "        df = i['data_frame']\n",
    "        df.index = df.index.map(str)\n",
    "        sheet_name = i['sheet_name']\n",
    "        df.to_excel(excel_writer=excel_writer, sheet_name=sheet_name)"
   ]
  }
 ],
 "metadata": {
  "kernelspec": {
   "display_name": "venv",
   "language": "python",
   "name": "python3"
  },
  "language_info": {
   "codemirror_mode": {
    "name": "ipython",
    "version": 3
   },
   "file_extension": ".py",
   "mimetype": "text/x-python",
   "name": "python",
   "nbconvert_exporter": "python",
   "pygments_lexer": "ipython3",
   "version": "3.9.16"
  },
  "orig_nbformat": 4
 },
 "nbformat": 4,
 "nbformat_minor": 2
}
