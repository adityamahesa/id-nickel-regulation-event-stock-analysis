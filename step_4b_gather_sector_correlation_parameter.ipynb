{
 "cells": [
  {
   "cell_type": "code",
   "execution_count": 31,
   "metadata": {},
   "outputs": [],
   "source": [
    "from IPython.core.interactiveshell import InteractiveShell\n",
    "from IPython.display import Markdown as md\n",
    "from ipynb.fs.full import functions\n",
    "import pandas as pd\n",
    "\n",
    "InteractiveShell.ast_node_interactivity = \"all\"\n",
    "\n",
    "pd.set_option('display.max_rows', None)\n",
    "pd.set_option('display.max_columns', None)"
   ]
  },
  {
   "cell_type": "code",
   "execution_count": 32,
   "metadata": {},
   "outputs": [],
   "source": [
    "import yfinance as yf"
   ]
  },
  {
   "cell_type": "code",
   "execution_count": 33,
   "metadata": {},
   "outputs": [],
   "source": [
    "ticker_df = pd.read_excel('tickers.xlsx', sheet_name=0, index_col=0)"
   ]
  },
  {
   "cell_type": "code",
   "execution_count": 34,
   "metadata": {},
   "outputs": [
    {
     "name": "stdout",
     "output_type": "stream",
     "text": [
      "[*********************100%%**********************]  425 of 425 completed\n"
     ]
    }
   ],
   "source": [
    "ticker_list = ticker_df.index.to_list()\n",
    "ticker_list = [f'{ticker}.JK' for ticker in ticker_list]\n",
    "start_date = '2019-07-01'\n",
    "end_date = '2023-08-31'\n",
    "\n",
    "download_result = yf.download(tickers=ticker_list, start=start_date, end=end_date, interval='1wk', threads=False, repair=True, \n",
    "                                  keepna=False, period=None)\n",
    "price_result = download_result.copy()['Close']"
   ]
  },
  {
   "cell_type": "code",
   "execution_count": 61,
   "metadata": {},
   "outputs": [
    {
     "data": {
      "text/plain": [
       "basic-materials             1.000000\n",
       "infrastructures             0.794953\n",
       "consumer-non-cyclicals      0.752307\n",
       "energy                      0.719106\n",
       "industrials                 0.675934\n",
       "properties-real-estate      0.671995\n",
       "consumer-cyclical           0.651580\n",
       "healthcare                  0.595391\n",
       "transaportation-logistic    0.442675\n",
       "technology                  0.396241\n",
       "financials                  0.258612\n",
       "Name: basic-materials, dtype: float64"
      ]
     },
     "execution_count": 61,
     "metadata": {},
     "output_type": "execute_result"
    }
   ],
   "source": [
    "price_result.columns = price_result.copy().columns.str.replace('.JK', '')\n",
    "\n",
    "ticker_return = price_result.copy().ffill().pct_change()[1:]\n",
    "\n",
    "sector_dict = ticker_df.copy().groupby('sector').groups\n",
    "sector_return_dict = {}\n",
    "\n",
    "for sector in sector_dict.keys():\n",
    "    sector_list = sector_dict[sector]\n",
    "    sector_return = ticker_return[sector_list].mean(axis=1).to_list()\n",
    "    sector_return_dict[sector] = sector_return\n",
    "\n",
    "sector_return_df = pd.DataFrame(sector_return_dict)\n",
    "sector_corr_df = sector_return_df.corr()\n",
    "\n",
    "referred_sector = 'basic-materials'\n",
    "referred_corr = sector_corr_df[referred_sector].sort_values(ascending=False)\n",
    "\n",
    "referred_corr\n"
   ]
  },
  {
   "cell_type": "code",
   "execution_count": 62,
   "metadata": {},
   "outputs": [],
   "source": [
    "with pd.ExcelWriter('gathered_cor.xlsx') as excel_writer:\n",
    "    referred_corr.to_excel(excel_writer=excel_writer)"
   ]
  }
 ],
 "metadata": {
  "kernelspec": {
   "display_name": "venv",
   "language": "python",
   "name": "python3"
  },
  "language_info": {
   "codemirror_mode": {
    "name": "ipython",
    "version": 3
   },
   "file_extension": ".py",
   "mimetype": "text/x-python",
   "name": "python",
   "nbconvert_exporter": "python",
   "pygments_lexer": "ipython3",
   "version": "3.10.7"
  },
  "orig_nbformat": 4
 },
 "nbformat": 4,
 "nbformat_minor": 2
}
