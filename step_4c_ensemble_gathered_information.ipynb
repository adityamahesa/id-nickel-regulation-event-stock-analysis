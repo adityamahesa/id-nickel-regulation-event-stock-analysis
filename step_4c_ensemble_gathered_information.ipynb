{
 "cells": [
  {
   "cell_type": "code",
   "execution_count": 1,
   "metadata": {},
   "outputs": [],
   "source": [
    "from IPython.core.interactiveshell import InteractiveShell\n",
    "from IPython.display import Markdown as md\n",
    "import pandas as pd\n",
    "\n",
    "InteractiveShell.ast_node_interactivity = \"all\"\n",
    "\n",
    "pd.set_option('display.max_rows', None)\n",
    "pd.set_option('display.max_columns', None)"
   ]
  },
  {
   "cell_type": "code",
   "execution_count": 6,
   "metadata": {},
   "outputs": [],
   "source": [
    "ticker_excel_book = pd.read_excel('tickers.xlsx', sheet_name=0, index_col=0)\n",
    "\n",
    "u_after_event_excel_book = pd.read_excel(io='gathered_u_after_event.xlsx', sheet_name=None, index_col=0)\n",
    "\n",
    "u_event_excel_book = pd.read_excel(io='gathered_u_event.xlsx', sheet_name=None, index_col=0)\n",
    "\n",
    "leak_excel_book = pd.read_excel(io='gathered_leak.xlsx', sheet_name=None, index_col=0)\n",
    "\n",
    "vto_excel_book = pd.read_excel(io='gathered_vto.xlsx', sheet_name=None, index_col=0)\n",
    "\n",
    "mv_excel_book = pd.read_excel(io='gathered_mv.xlsx', sheet_name=None, index_col=0)\n",
    "\n",
    "ret_excel_book = pd.read_excel(io='gathered_ret.xlsx', sheet_name=None, index_col=0)\n",
    "\n",
    "vol_excel_book = pd.read_excel(io='gathered_vol.xlsx', sheet_name=None, index_col=0)\n",
    "\n",
    "cor_df = pd.read_excel(io='gathered_cor.xlsx', sheet_name=0, index_col=0)\n"
   ]
  },
  {
   "cell_type": "code",
   "execution_count": 30,
   "metadata": {},
   "outputs": [],
   "source": [
    "case_list = u_after_event_excel_book.copy().keys()\n",
    "ticker_df = ticker_excel_book.copy()['sector']\n",
    "cor_series = cor_df.copy().iloc[:,0]\n",
    "period_first = 1\n",
    "period_last = 20\n",
    "period_range = range(period_first, period_last+1)\n",
    "\n",
    "regression_data_list = []\n",
    "\n",
    "for case in case_list:\n",
    "    pro_or_con = case.split('-')[0]\n",
    "    dpro = int(pro_or_con == 'PRO')\n",
    "    dcon = int(pro_or_con == 'CON')\n",
    "\n",
    "    u_0_series = u_event_excel_book[case].copy().iloc[:, 0]\n",
    "    leak_series = leak_excel_book[case].copy().iloc[:,0]\n",
    "    ret_series = ret_excel_book[case].copy().iloc[:,0]\n",
    "    vol_series = vol_excel_book[case].copy().iloc[:,0]\n",
    "    \n",
    "    for ticker, sector in ticker_df.items():\n",
    "        u_0 = u_0_series[ticker]\n",
    "        leak = leak_series[ticker]\n",
    "        ret = ret_series[ticker]\n",
    "        vol = vol_series[ticker]\n",
    "        cor = cor_series[sector]\n",
    "\n",
    "        u_after_event_df = u_after_event_excel_book[case]\n",
    "        vto_df = vto_excel_book[case]\n",
    "        mv_df = mv_excel_book[case]\n",
    "\n",
    "        for period in period_range:\n",
    "            u = u_after_event_df.loc[period, ticker]\n",
    "            vto = vto_df.loc[period, ticker]\n",
    "            mv = mv_df.loc[period, ticker]\n",
    "            regression_data_list.append({\n",
    "                'CASE': case,\n",
    "                'PRO_OR_CON': pro_or_con,\n",
    "                'PERIOD': period,\n",
    "                'TICKER': ticker,\n",
    "                'U': u,\n",
    "                'U_0': u_0,\n",
    "                'LEAK': leak,\n",
    "                'VTO': vto,\n",
    "                'MV': mv,\n",
    "                'RET': ret,\n",
    "                'VOL': vol,\n",
    "                'COR': cor,\n",
    "                'DPRO': dpro,\n",
    "                'DCON': dcon,\n",
    "            })\n",
    "\n",
    "regression_df = pd.DataFrame(regression_data_list)"
   ]
  },
  {
   "cell_type": "code",
   "execution_count": 32,
   "metadata": {},
   "outputs": [],
   "source": [
    "with pd.ExcelWriter('regression_data.xlsx') as excel_writer:\n",
    "    regression_df.to_excel(excel_writer=excel_writer, index=False)"
   ]
  }
 ],
 "metadata": {
  "kernelspec": {
   "display_name": "venv",
   "language": "python",
   "name": "python3"
  },
  "language_info": {
   "codemirror_mode": {
    "name": "ipython",
    "version": 3
   },
   "file_extension": ".py",
   "mimetype": "text/x-python",
   "name": "python",
   "nbconvert_exporter": "python",
   "pygments_lexer": "ipython3",
   "version": "3.10.7"
  },
  "orig_nbformat": 4
 },
 "nbformat": 4,
 "nbformat_minor": 2
}
