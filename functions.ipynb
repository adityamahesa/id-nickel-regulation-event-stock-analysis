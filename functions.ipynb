{
 "cells": [
  {
   "cell_type": "code",
   "execution_count": 1,
   "metadata": {},
   "outputs": [],
   "source": [
    "from IPython.core.interactiveshell import InteractiveShell\n",
    "from IPython.display import Markdown as md\n",
    "import pandas as pd\n",
    "\n",
    "InteractiveShell.ast_node_interactivity = \"all\"\n",
    "\n",
    "pd.set_option('display.max_rows', None)\n",
    "pd.set_option('display.max_columns', None)\n",
    "\n",
    "time_zone = 'Asia/Jakarta'"
   ]
  },
  {
   "cell_type": "code",
   "execution_count": 2,
   "metadata": {},
   "outputs": [],
   "source": [
    "import data_source\n",
    "from datetime import datetime, timedelta\n",
    "import yfinance as yf"
   ]
  },
  {
   "cell_type": "code",
   "execution_count": 3,
   "metadata": {},
   "outputs": [],
   "source": [
    "return_column_name = 'return'"
   ]
  },
  {
   "cell_type": "code",
   "execution_count": 4,
   "metadata": {},
   "outputs": [],
   "source": [
    "def generate_returns_of_market(start_time: datetime, end_time: datetime) -> pd.DataFrame:\n",
    "    market_ticker = data_source.ticker_market\n",
    "    market = yf.Ticker(ticker=market_ticker)\n",
    "\n",
    "    result = market.history(start=start_time, end=end_time)\n",
    "    returns_of_market = result['Close'].pct_change()[1:].to_frame()\n",
    "\n",
    "    first_column_name = returns_of_market.columns[0]\n",
    "    returns_of_market.rename(columns={first_column_name: return_column_name}, inplace=True)\n",
    "\n",
    "    return returns_of_market"
   ]
  },
  {
   "cell_type": "code",
   "execution_count": 5,
   "metadata": {},
   "outputs": [],
   "source": [
    "def generate_stock_prices(start_time: datetime, end_time: datetime, tickers: pd.DataFrame, is_more_related: bool) -> pd.DataFrame:\n",
    "    classified_tickers_list = tickers[tickers['is_more_related'] == is_more_related]['ticker'].to_list()\n",
    "\n",
    "    tickers_prices = yf.download(tickers=classified_tickers_list, start=start_time, end=end_time)\n",
    "    tickers_close_prices = tickers_prices['Close'].dropna(axis=1)\n",
    "\n",
    "    return tickers_close_prices"
   ]
  },
  {
   "cell_type": "code",
   "execution_count": 6,
   "metadata": {},
   "outputs": [],
   "source": [
    "def calculate_tickers_return(tickers_stock_prices: pd.DataFrame) -> pd.DataFrame:\n",
    "    tickers_return = tickers_stock_prices.pct_change()[1:]\n",
    "    return tickers_return"
   ]
  },
  {
   "cell_type": "code",
   "execution_count": 7,
   "metadata": {},
   "outputs": [],
   "source": [
    "date_column_name = 'date'\n",
    "ticker_column_name = 'ticker'\n",
    "return_column_name = 'return'\n",
    "observation_param_name_for_return = 'param1_r'"
   ]
  },
  {
   "cell_type": "code",
   "execution_count": 8,
   "metadata": {},
   "outputs": [],
   "source": [
    "def init_observation_df(input_df: pd.DataFrame) -> pd.DataFrame:\n",
    "  observation_list = []\n",
    "  for period, row in input_df.iterrows():\n",
    "    period = period.tz_localize(time_zone)\n",
    "    for ticker, daily_return in row.items():\n",
    "      observation_list.append({\n",
    "          date_column_name: period,\n",
    "          ticker_column_name: ticker,\n",
    "          return_column_name: daily_return\n",
    "      })\n",
    "  observation_raw_df = pd.DataFrame(observation_list)\n",
    "\n",
    "  # raw pivot\n",
    "  observation_df = observation_raw_df.pivot_table(index=date_column_name, columns=ticker_column_name)\n",
    "\n",
    "  # fixed_pivot\n",
    "  observation_df.rename(columns={return_column_name: observation_param_name_for_return}, inplace=True)\n",
    "  observation_df = observation_df.swaplevel(i=0, j=1, axis=1)\n",
    "\n",
    "  return observation_df"
   ]
  },
  {
   "cell_type": "code",
   "execution_count": 9,
   "metadata": {},
   "outputs": [],
   "source": [
    "observation_param_name_for_u = 'param2_u'"
   ]
  },
  {
   "cell_type": "code",
   "execution_count": 10,
   "metadata": {},
   "outputs": [],
   "source": [
    "def calculate_u(observation_df: pd.DataFrame, returns_of_market: pd.DataFrame) -> pd.DataFrame:\n",
    "  for column, _ in observation_df.items():\n",
    "    _ticker, _ = column\n",
    "    observation_df[_ticker, observation_param_name_for_u] = observation_df[_ticker, observation_param_name_for_return] \\\n",
    "      - returns_of_market[return_column_name]\n",
    "  observation_df = observation_df.reindex(sorted(observation_df.columns), axis=1)\n",
    "  return observation_df"
   ]
  },
  {
   "cell_type": "code",
   "execution_count": 11,
   "metadata": {},
   "outputs": [],
   "source": [
    "observation_param_name_for_cu = 'param3_cu'"
   ]
  },
  {
   "cell_type": "code",
   "execution_count": 13,
   "metadata": {},
   "outputs": [],
   "source": [
    "def calculate_cu(observation_df: pd.DataFrame) -> pd.DataFrame:\n",
    "  for column, _ in observation_df.items():\n",
    "    _ticker, _ = column\n",
    "    observation_df[_ticker, observation_param_name_for_cu] = 0\n",
    "    cu = 0\n",
    "    for i, _ in observation_df[_ticker, observation_param_name_for_u].items():\n",
    "      cu += observation_df.copy().at[i, (_ticker, observation_param_name_for_u)]\n",
    "      observation_df.at[i, (_ticker, observation_param_name_for_cu)] = cu\n",
    "  observation_df = observation_df.copy().reindex(sorted(observation_df.columns), axis=1)\n",
    "  return observation_df"
   ]
  },
  {
   "cell_type": "code",
   "execution_count": null,
   "metadata": {},
   "outputs": [],
   "source": [
    "factor = 30\n",
    "last_cu_column_name = 'last_cu'"
   ]
  },
  {
   "cell_type": "code",
   "execution_count": null,
   "metadata": {},
   "outputs": [],
   "source": [
    "def select_winner_and_loser_tickers(observation_df: pd.DataFrame) -> tuple[pd.DataFrame, pd.DataFrame]:\n",
    "    last_formation_day = observation_df.iloc[-1]\n",
    "    last_formation_day_dict = last_formation_day.to_dict()\n",
    "    last_formation_day_list = [{ticker_column_name: key[0], last_cu_column_name: value} for key, value in last_formation_day_dict.items() if key[1] == 'param3_cu']\n",
    "    last_formation_day_df = pd.DataFrame(last_formation_day_list).copy().sort_values(by=last_cu_column_name, ascending=False)\n",
    "    ticker_winner_list = last_formation_day_df.iloc[:factor][ticker_column_name].to_list()\n",
    "    ticker_loser_list = last_formation_day_df.iloc[-factor:][ticker_column_name].to_list()\n",
    "    return observation_df[ticker_winner_list], observation_df[ticker_loser_list]"
   ]
  }
 ],
 "metadata": {
  "kernelspec": {
   "display_name": "venv",
   "language": "python",
   "name": "python3"
  },
  "language_info": {
   "codemirror_mode": {
    "name": "ipython",
    "version": 3
   },
   "file_extension": ".py",
   "mimetype": "text/x-python",
   "name": "python",
   "nbconvert_exporter": "python",
   "pygments_lexer": "ipython3",
   "version": "3.9.16"
  },
  "orig_nbformat": 4
 },
 "nbformat": 4,
 "nbformat_minor": 2
}
