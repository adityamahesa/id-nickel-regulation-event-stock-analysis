{
 "cells": [
  {
   "cell_type": "code",
   "execution_count": 2,
   "metadata": {},
   "outputs": [],
   "source": [
    "from IPython.core.interactiveshell import InteractiveShell\n",
    "from IPython.display import Markdown as md\n",
    "import pandas as pd\n",
    "\n",
    "InteractiveShell.ast_node_interactivity = \"all\"\n",
    "\n",
    "pd.set_option('display.max_rows', None)\n",
    "pd.set_option('display.max_columns', None)\n",
    "\n",
    "time_zone = 'Asia/Jakarta'"
   ]
  },
  {
   "cell_type": "code",
   "execution_count": 4,
   "metadata": {},
   "outputs": [],
   "source": [
    "import data_source\n",
    "from datetime import datetime, timedelta\n",
    "import yfinance as yf"
   ]
  },
  {
   "cell_type": "code",
   "execution_count": 5,
   "metadata": {},
   "outputs": [],
   "source": [
    "price_column_name = 'price'\n",
    "return_column_name = 'return'"
   ]
  },
  {
   "cell_type": "code",
   "execution_count": null,
   "metadata": {},
   "outputs": [],
   "source": [
    "def calculate_market_return(market_price_df: pd.DataFrame, first_period_of_price: int, last_period_of_price: int) -> pd.DataFrame:\n",
    "    first_index = market_price_df.index.get_loc(first_period_of_price)\n",
    "    last_index = market_price_df.index.get_loc(last_period_of_price)\n",
    "    market_formation_prices = market_price_df.copy()[price_column_name].to_frame().iloc[first_index:last_index+1]\n",
    "    market_return = market_formation_prices.copy().ffill().pct_change()[1:]\n",
    "\n",
    "    first_column_name = market_return.columns[0]\n",
    "    market_return.rename(columns={first_column_name: return_column_name}, inplace=True)\n",
    "\n",
    "    return market_return\n"
   ]
  },
  {
   "cell_type": "code",
   "execution_count": 7,
   "metadata": {},
   "outputs": [],
   "source": [
    "def get_ticker_prices(tickers: str | list, start_date: str, end_date: str) -> pd.DataFrame:\n",
    "    download_result = yf.download(tickers=tickers, start=start_date, end=end_date, threads=False, repair=True, \n",
    "                                  keepna=False, period=None)\n",
    "    price_result = download_result.copy()[['Close', 'Volume']]\n",
    "    return price_result"
   ]
  },
  {
   "cell_type": "code",
   "execution_count": 9,
   "metadata": {},
   "outputs": [],
   "source": [
    "def calculate_tickers_return(tickers_stock_prices: pd.DataFrame) -> pd.DataFrame:\n",
    "    tickers_return = tickers_stock_prices.copy().pct_change()[1:]\n",
    "    return tickers_return"
   ]
  },
  {
   "cell_type": "code",
   "execution_count": 10,
   "metadata": {},
   "outputs": [],
   "source": [
    "date_column_name = 'date'\n",
    "period_column_name = 'period'\n",
    "ticker_column_name = 'ticker'\n",
    "return_column_name = 'return'\n",
    "observation_param_name_for_return = 'param1_r'"
   ]
  },
  {
   "cell_type": "code",
   "execution_count": 11,
   "metadata": {},
   "outputs": [],
   "source": [
    "def init_observation_df(input_df: pd.DataFrame) -> pd.DataFrame:\n",
    "  observation_list = []\n",
    "  for period, row in input_df.iterrows():\n",
    "    for ticker, daily_return in row.items():\n",
    "      observation_list.append({\n",
    "          period_column_name: period,\n",
    "          ticker_column_name: ticker,\n",
    "          return_column_name: daily_return\n",
    "      })\n",
    "  observation_raw_df = pd.DataFrame(observation_list)\n",
    "\n",
    "  # raw pivot\n",
    "  observation_df = observation_raw_df.copy().pivot_table(index=period_column_name, columns=ticker_column_name)\n",
    "\n",
    "  # fixed_pivot\n",
    "  observation_df.rename(columns={return_column_name: observation_param_name_for_return}, inplace=True)\n",
    "  observation_df = observation_df.swaplevel(i=0, j=1, axis=1)\n",
    "\n",
    "  return observation_df"
   ]
  },
  {
   "cell_type": "code",
   "execution_count": 12,
   "metadata": {},
   "outputs": [],
   "source": [
    "observation_param_name_for_u = 'param2_u'"
   ]
  },
  {
   "cell_type": "code",
   "execution_count": 13,
   "metadata": {},
   "outputs": [],
   "source": [
    "def calculate_u(observation_df: pd.DataFrame, returns_of_market: pd.DataFrame) -> pd.DataFrame:\n",
    "  for column, _ in observation_df.items():\n",
    "    _ticker, _ = column\n",
    "    observation_df[_ticker, observation_param_name_for_u] = observation_df.copy()[_ticker, observation_param_name_for_return].astype(float) \\\n",
    "      - returns_of_market[return_column_name].astype(float)\n",
    "  observation_df = observation_df.copy().reindex(sorted(observation_df.copy().columns), axis=1)\n",
    "  return observation_df"
   ]
  },
  {
   "cell_type": "code",
   "execution_count": 14,
   "metadata": {},
   "outputs": [],
   "source": [
    "observation_param_name_for_cu = 'param3_cu'"
   ]
  },
  {
   "cell_type": "code",
   "execution_count": 15,
   "metadata": {},
   "outputs": [],
   "source": [
    "def calculate_cu(observation_df: pd.DataFrame) -> pd.DataFrame:\n",
    "  for column, _ in observation_df.items():\n",
    "    _ticker, _ = column\n",
    "    observation_df[_ticker, observation_param_name_for_cu] = 0\n",
    "    cu = 0\n",
    "    for i, _ in observation_df[_ticker, observation_param_name_for_u].items():\n",
    "      cu += observation_df.copy().at[i, (_ticker, observation_param_name_for_u)]\n",
    "      observation_df.at[i, (_ticker, observation_param_name_for_cu)] = cu\n",
    "  observation_df = observation_df.copy().reindex(sorted(observation_df.columns), axis=1)\n",
    "  return observation_df"
   ]
  },
  {
   "cell_type": "code",
   "execution_count": 16,
   "metadata": {},
   "outputs": [],
   "source": [
    "factor = 30\n",
    "last_cu_column_name = 'last_cu'"
   ]
  },
  {
   "cell_type": "code",
   "execution_count": 17,
   "metadata": {},
   "outputs": [],
   "source": [
    "def sort_by_last_formation_day(observation_df: pd.DataFrame) -> pd.DataFrame:\n",
    "    last_formation_day = observation_df.copy().iloc[-1]\n",
    "    last_formation_day_dict = last_formation_day.to_dict()\n",
    "    last_formation_day_list = [{ticker_column_name: key[0], last_cu_column_name: value} for key, value in last_formation_day_dict.items() if key[1] == 'param3_cu']\n",
    "    last_formation_day_df = pd.DataFrame(last_formation_day_list).sort_values(by=last_cu_column_name, ascending=False)\n",
    "    tickers_sorted = last_formation_day_df[ticker_column_name].to_list()\n",
    "    return observation_df.copy()[tickers_sorted]"
   ]
  },
  {
   "cell_type": "code",
   "execution_count": null,
   "metadata": {},
   "outputs": [],
   "source": [
    "def generate_observation_aggregated_df(observation_df: pd.DataFrame) -> pd.DataFrame:\n",
    "    observation_aggr_list = []\n",
    "    car = 0\n",
    "    for index, row in observation_df.iterrows():\n",
    "      u_series = row[:, observation_param_name_for_u]\n",
    "      ar = u_series.mean()\n",
    "      car += ar\n",
    "\n",
    "      observation_aggr_list.append({\n",
    "          'period': index,\n",
    "          'ar': ar,\n",
    "          'car': car,\n",
    "      })\n",
    "\n",
    "    observation_aggr_df = pd.DataFrame(observation_aggr_list)\n",
    "    observation_aggr_df = observation_aggr_df.pivot_table(index='period')\n",
    "    return observation_aggr_df\n"
   ]
  },
  {
   "cell_type": "code",
   "execution_count": null,
   "metadata": {},
   "outputs": [],
   "source": [
    "def generate_winner_loser_comparison(winner_obs_aggr_df: pd.DataFrame, loser_obs_aggr_df: pd.DataFrame) -> pd.DataFrame:\n",
    "    winner_car_series = winner_obs_aggr_df['car']\n",
    "    loser_car_series = loser_obs_aggr_df['car']\n",
    "\n",
    "    winner_loser_comparison = pd.concat({'car_winner': winner_car_series, 'car_loser': loser_car_series}, axis=1)\n",
    "    return winner_loser_comparison\n"
   ]
  },
  {
   "cell_type": "code",
   "execution_count": null,
   "metadata": {},
   "outputs": [],
   "source": [
    "def plot_car_winner_loser(winner_loser_comparison: pd.DataFrame, case_code: str):\n",
    "    title = f'CAR Movement on the Case {case_code}'\n",
    "    winner_loser_comparison.plot(title=title, ylabel='CAR', xlabel='Period', grid=True, style=['o-','^-'])"
   ]
  }
 ],
 "metadata": {
  "kernelspec": {
   "display_name": "venv",
   "language": "python",
   "name": "python3"
  },
  "language_info": {
   "codemirror_mode": {
    "name": "ipython",
    "version": 3
   },
   "file_extension": ".py",
   "mimetype": "text/x-python",
   "name": "python",
   "nbconvert_exporter": "python",
   "pygments_lexer": "ipython3",
   "version": "3.10.7"
  },
  "orig_nbformat": 4
 },
 "nbformat": 4,
 "nbformat_minor": 2
}
