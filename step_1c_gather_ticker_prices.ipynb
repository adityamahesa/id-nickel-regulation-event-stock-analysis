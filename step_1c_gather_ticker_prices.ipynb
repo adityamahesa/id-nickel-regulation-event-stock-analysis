{
 "cells": [
  {
   "cell_type": "code",
   "execution_count": 15,
   "metadata": {},
   "outputs": [],
   "source": [
    "from IPython.core.interactiveshell import InteractiveShell\n",
    "from IPython.display import Markdown as md\n",
    "from ipynb.fs.full import functions\n",
    "import pandas as pd\n",
    "\n",
    "InteractiveShell.ast_node_interactivity = \"all\"\n",
    "\n",
    "pd.set_option('display.max_rows', None)\n",
    "pd.set_option('display.max_columns', None)"
   ]
  },
  {
   "cell_type": "code",
   "execution_count": 16,
   "metadata": {},
   "outputs": [
    {
     "name": "stdout",
     "output_type": "stream",
     "text": [
      "[*********************100%%**********************]  605 of 605 completed\n",
      "[*********************100%%**********************]  605 of 605 completed"
     ]
    },
    {
     "name": "stderr",
     "output_type": "stream",
     "text": [
      "\n",
      "1 Failed download:\n",
      "['ADES.JK']: Exception('%ticker%: No price data found, symbol may be delisted (1d 2019-08-15 -> 2019-09-28)')\n"
     ]
    },
    {
     "name": "stdout",
     "output_type": "stream",
     "text": [
      "\n",
      "[*********************100%%**********************]  605 of 605 completed\n",
      "[*********************100%%**********************]  605 of 605 completed"
     ]
    },
    {
     "name": "stderr",
     "output_type": "stream",
     "text": [
      "\n",
      "1 Failed download:\n",
      "['DFAM.JK']: Exception('%ticker%: No price data found, symbol may be delisted (1d 2022-12-06 -> 2023-01-19)')\n"
     ]
    },
    {
     "name": "stdout",
     "output_type": "stream",
     "text": [
      "\n",
      "[*********************100%%**********************]  605 of 605 completed\n",
      "[*********************100%%**********************]  605 of 605 completed"
     ]
    },
    {
     "name": "stderr",
     "output_type": "stream",
     "text": [
      "\n",
      "2 Failed downloads:\n",
      "['NUSA.JK', 'INCI.JK']: Exception('%ticker%: No price data found, symbol may be delisted (1d 2020-12-29 -> 2021-02-16)')\n"
     ]
    },
    {
     "name": "stdout",
     "output_type": "stream",
     "text": [
      "\n",
      "[*********************100%%**********************]  605 of 605 completed\n",
      "[*********************100%%**********************]  605 of 605 completed"
     ]
    },
    {
     "name": "stderr",
     "output_type": "stream",
     "text": [
      "\n",
      "1 Failed download:\n",
      "['GTBO.JK']: Exception('%ticker%: No price data found, symbol may be delisted (1d 2023-06-12 -> 2023-08-01)')\n"
     ]
    },
    {
     "name": "stdout",
     "output_type": "stream",
     "text": [
      "\n"
     ]
    }
   ],
   "source": [
    "timeline = pd.read_excel('timeline.xlsx', sheet_name='timeline')\n",
    "\n",
    "tickers = pd.read_excel('tickers.xlsx', sheet_name='tickers')\n",
    "ticker_list = tickers.copy()['ticker'].to_list()\n",
    "\n",
    "market_suffix = '.JK'\n",
    "ticker_list = [f'{ticker}{market_suffix}' for ticker in ticker_list]\n",
    "\n",
    "pro_or_con_column_name = 'pro_or_con'\n",
    "pro_or_con_choice = ['PRO', 'CON']\n",
    "\n",
    "output_sheet_list = []\n",
    "\n",
    "for pro_or_con in pro_or_con_choice:\n",
    "    selected_pro_or_con = timeline[timeline[pro_or_con_column_name] == pro_or_con]\n",
    "    for _, row in selected_pro_or_con.iterrows():\n",
    "        case_code = row['code']\n",
    "        start_date = row['scraping_start_date']\n",
    "        end_date = row['scraping_end_date']\n",
    "        result = functions.get_ticker_prices(tickers=ticker_list, start_date=start_date, end_date=end_date)\n",
    "        output_sheet_list.append({\n",
    "            'sheet_name': case_code,\n",
    "            'data_frame': result,\n",
    "        })"
   ]
  },
  {
   "cell_type": "code",
   "execution_count": 18,
   "metadata": {},
   "outputs": [],
   "source": [
    "with pd.ExcelWriter('ticker_prices.xlsx') as excel_writer:\n",
    "    for i in output_sheet_list:\n",
    "        sheet_name = i['sheet_name']\n",
    "        df = i['data_frame']\n",
    "        df.index = df.index.map(str)\n",
    "        df.to_excel(excel_writer=excel_writer, sheet_name=sheet_name)"
   ]
  },
  {
   "cell_type": "code",
   "execution_count": null,
   "metadata": {},
   "outputs": [],
   "source": []
  }
 ],
 "metadata": {
  "kernelspec": {
   "display_name": "venv",
   "language": "python",
   "name": "python3"
  },
  "language_info": {
   "codemirror_mode": {
    "name": "ipython",
    "version": 3
   },
   "file_extension": ".py",
   "mimetype": "text/x-python",
   "name": "python",
   "nbconvert_exporter": "python",
   "pygments_lexer": "ipython3",
   "version": "3.10.7"
  },
  "orig_nbformat": 4
 },
 "nbformat": 4,
 "nbformat_minor": 2
}
